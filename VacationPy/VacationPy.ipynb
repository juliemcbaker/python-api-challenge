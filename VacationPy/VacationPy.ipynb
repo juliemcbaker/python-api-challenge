{
 "cells": [
  {
   "cell_type": "code",
   "execution_count": 1,
   "metadata": {},
   "outputs": [],
   "source": [
    "%matplotlib inline"
   ]
  },
  {
   "cell_type": "code",
   "execution_count": null,
   "metadata": {},
   "outputs": [],
   "source": [
    "# Julie Baker\n",
    "# VacationPy\n",
    "# June 2021"
   ]
  },
  {
   "cell_type": "markdown",
   "metadata": {},
   "source": [
    "# VacationPy\n",
    "----\n",
    "\n",
    "#### Note\n",
    "* Keep an eye on your API usage. Use https://developers.google.com/maps/reporting/gmp-reporting as reference for how to monitor your usage and billing.\n",
    "\n",
    "* Instructions have been included for each segment. You do not have to follow them exactly, but they are included to help you think through the steps."
   ]
  },
  {
   "cell_type": "code",
   "execution_count": 2,
   "metadata": {},
   "outputs": [],
   "source": [
    "# Dependencies and Setup\n",
    "import matplotlib.pyplot as plt\n",
    "import pandas as pd\n",
    "import numpy as np\n",
    "import requests\n",
    "import gmaps\n",
    "import os\n",
    "\n",
    "# Import API key\n",
    "from api_keys import gkey "
   ]
  },
  {
   "cell_type": "markdown",
   "metadata": {},
   "source": [
    "### Store Part I results into DataFrame\n",
    "* Load the csv exported in Part I to a DataFrame"
   ]
  },
  {
   "cell_type": "code",
   "execution_count": 3,
   "metadata": {},
   "outputs": [],
   "source": [
    "# Study data files\n",
    "weather_path = os.path.join(os.getcwd(), \"cities.csv\")\n",
    "\n",
    "# convert weather data to df\n",
    "weather_df = pd.read_csv(weather_path)"
   ]
  },
  {
   "cell_type": "code",
   "execution_count": 4,
   "metadata": {},
   "outputs": [
    {
     "output_type": "execute_result",
     "data": {
      "text/plain": [
       "     Unnamed: 0           City  Latitude  Longitude  Temperature (F)  \\\n",
       "0             0         dikson   73.5069    80.5464            32.00   \n",
       "1             1        barstow   34.8986  -117.0228           104.47   \n",
       "2             2     samoylovka   51.1840    43.7081            65.62   \n",
       "3             3          airai   -8.9266   125.4092            55.53   \n",
       "4             4       celestun   20.8667   -90.4000            91.08   \n",
       "..          ...            ...       ...        ...              ...   \n",
       "538         538      bonavista   48.6499   -53.1147            60.80   \n",
       "539         539         ranong    9.9658    98.6348            79.56   \n",
       "540         540  marsh harbour   26.5412   -77.0636            83.57   \n",
       "541         541        copiapo  -27.3667   -70.3333            56.89   \n",
       "542         542         laurel   39.0993   -76.8483            90.12   \n",
       "\n",
       "     Maximum Temperature (F)  Humidity (%)  Cloudiness (%)  Wind Speed (mph)  \\\n",
       "0                      32.00            84               0              5.03   \n",
       "1                     106.79             8               0             26.53   \n",
       "2                      65.62            67              51              8.61   \n",
       "3                      55.53            92              34              3.27   \n",
       "4                      91.08            59              92              6.44   \n",
       "..                       ...           ...             ...               ...   \n",
       "538                    60.80            98             100             15.01   \n",
       "539                    79.56            87              98              8.72   \n",
       "540                    83.57            75              64             16.60   \n",
       "541                    56.89            44              25              6.42   \n",
       "542                    94.66            56               1              1.99   \n",
       "\n",
       "    Country        Time  Time Zone  \n",
       "0        RU  1624218521      25200  \n",
       "1        US  1624218522     -25200  \n",
       "2        RU  1624218523      14400  \n",
       "3        TL  1624218525      32400  \n",
       "4        MX  1624218527     -18000  \n",
       "..      ...         ...        ...  \n",
       "538      CA  1624219015      -9000  \n",
       "539      TH  1624219015      25200  \n",
       "540      BS  1624219016     -14400  \n",
       "541      CL  1624219016     -14400  \n",
       "542      US  1624218929     -14400  \n",
       "\n",
       "[543 rows x 12 columns]"
      ],
      "text/html": "<div>\n<style scoped>\n    .dataframe tbody tr th:only-of-type {\n        vertical-align: middle;\n    }\n\n    .dataframe tbody tr th {\n        vertical-align: top;\n    }\n\n    .dataframe thead th {\n        text-align: right;\n    }\n</style>\n<table border=\"1\" class=\"dataframe\">\n  <thead>\n    <tr style=\"text-align: right;\">\n      <th></th>\n      <th>Unnamed: 0</th>\n      <th>City</th>\n      <th>Latitude</th>\n      <th>Longitude</th>\n      <th>Temperature (F)</th>\n      <th>Maximum Temperature (F)</th>\n      <th>Humidity (%)</th>\n      <th>Cloudiness (%)</th>\n      <th>Wind Speed (mph)</th>\n      <th>Country</th>\n      <th>Time</th>\n      <th>Time Zone</th>\n    </tr>\n  </thead>\n  <tbody>\n    <tr>\n      <th>0</th>\n      <td>0</td>\n      <td>dikson</td>\n      <td>73.5069</td>\n      <td>80.5464</td>\n      <td>32.00</td>\n      <td>32.00</td>\n      <td>84</td>\n      <td>0</td>\n      <td>5.03</td>\n      <td>RU</td>\n      <td>1624218521</td>\n      <td>25200</td>\n    </tr>\n    <tr>\n      <th>1</th>\n      <td>1</td>\n      <td>barstow</td>\n      <td>34.8986</td>\n      <td>-117.0228</td>\n      <td>104.47</td>\n      <td>106.79</td>\n      <td>8</td>\n      <td>0</td>\n      <td>26.53</td>\n      <td>US</td>\n      <td>1624218522</td>\n      <td>-25200</td>\n    </tr>\n    <tr>\n      <th>2</th>\n      <td>2</td>\n      <td>samoylovka</td>\n      <td>51.1840</td>\n      <td>43.7081</td>\n      <td>65.62</td>\n      <td>65.62</td>\n      <td>67</td>\n      <td>51</td>\n      <td>8.61</td>\n      <td>RU</td>\n      <td>1624218523</td>\n      <td>14400</td>\n    </tr>\n    <tr>\n      <th>3</th>\n      <td>3</td>\n      <td>airai</td>\n      <td>-8.9266</td>\n      <td>125.4092</td>\n      <td>55.53</td>\n      <td>55.53</td>\n      <td>92</td>\n      <td>34</td>\n      <td>3.27</td>\n      <td>TL</td>\n      <td>1624218525</td>\n      <td>32400</td>\n    </tr>\n    <tr>\n      <th>4</th>\n      <td>4</td>\n      <td>celestun</td>\n      <td>20.8667</td>\n      <td>-90.4000</td>\n      <td>91.08</td>\n      <td>91.08</td>\n      <td>59</td>\n      <td>92</td>\n      <td>6.44</td>\n      <td>MX</td>\n      <td>1624218527</td>\n      <td>-18000</td>\n    </tr>\n    <tr>\n      <th>...</th>\n      <td>...</td>\n      <td>...</td>\n      <td>...</td>\n      <td>...</td>\n      <td>...</td>\n      <td>...</td>\n      <td>...</td>\n      <td>...</td>\n      <td>...</td>\n      <td>...</td>\n      <td>...</td>\n      <td>...</td>\n    </tr>\n    <tr>\n      <th>538</th>\n      <td>538</td>\n      <td>bonavista</td>\n      <td>48.6499</td>\n      <td>-53.1147</td>\n      <td>60.80</td>\n      <td>60.80</td>\n      <td>98</td>\n      <td>100</td>\n      <td>15.01</td>\n      <td>CA</td>\n      <td>1624219015</td>\n      <td>-9000</td>\n    </tr>\n    <tr>\n      <th>539</th>\n      <td>539</td>\n      <td>ranong</td>\n      <td>9.9658</td>\n      <td>98.6348</td>\n      <td>79.56</td>\n      <td>79.56</td>\n      <td>87</td>\n      <td>98</td>\n      <td>8.72</td>\n      <td>TH</td>\n      <td>1624219015</td>\n      <td>25200</td>\n    </tr>\n    <tr>\n      <th>540</th>\n      <td>540</td>\n      <td>marsh harbour</td>\n      <td>26.5412</td>\n      <td>-77.0636</td>\n      <td>83.57</td>\n      <td>83.57</td>\n      <td>75</td>\n      <td>64</td>\n      <td>16.60</td>\n      <td>BS</td>\n      <td>1624219016</td>\n      <td>-14400</td>\n    </tr>\n    <tr>\n      <th>541</th>\n      <td>541</td>\n      <td>copiapo</td>\n      <td>-27.3667</td>\n      <td>-70.3333</td>\n      <td>56.89</td>\n      <td>56.89</td>\n      <td>44</td>\n      <td>25</td>\n      <td>6.42</td>\n      <td>CL</td>\n      <td>1624219016</td>\n      <td>-14400</td>\n    </tr>\n    <tr>\n      <th>542</th>\n      <td>542</td>\n      <td>laurel</td>\n      <td>39.0993</td>\n      <td>-76.8483</td>\n      <td>90.12</td>\n      <td>94.66</td>\n      <td>56</td>\n      <td>1</td>\n      <td>1.99</td>\n      <td>US</td>\n      <td>1624218929</td>\n      <td>-14400</td>\n    </tr>\n  </tbody>\n</table>\n<p>543 rows × 12 columns</p>\n</div>"
     },
     "metadata": {},
     "execution_count": 4
    }
   ],
   "source": [
    "weather_df"
   ]
  },
  {
   "cell_type": "markdown",
   "metadata": {},
   "source": [
    "### Humidity Heatmap\n",
    "* Configure gmaps.\n",
    "* Use the Lat and Lng as locations and Humidity as the weight.\n",
    "* Add Heatmap layer to map."
   ]
  },
  {
   "cell_type": "code",
   "execution_count": 5,
   "metadata": {},
   "outputs": [],
   "source": [
    "# Configure gmaps\n",
    "gmaps.configure(api_key=gkey)\n",
    "\n",
    "# Store latitude and longitude in locations\n",
    "locations = weather_df[[\"Latitude\", \"Longitude\"]]\n",
    "# Store humidity\n",
    "humidity = weather_df[\"Humidity (%)\"].astype(float)\n",
    "# coordinates for center\n",
    "map_center = (0, 0)\n",
    "# choosing map_type\n",
    "which_map = 'HYBRID'"
   ]
  },
  {
   "cell_type": "code",
   "execution_count": 10,
   "metadata": {},
   "outputs": [],
   "source": [
    "# Plot Heatmap\n",
    "fig = gmaps.figure(map_type=which_map, center=map_center, zoom_level=1)\n",
    "#fig = gmaps.figure()\n",
    "# Create heat layer\n",
    "heat_layer = gmaps.heatmap_layer(locations, weights=humidity, \n",
    "                                 dissipating=False, max_intensity=100,\n",
    "                                 point_radius=2)\n",
    "\n",
    "# Add layer\n",
    "fig.add_layer(heat_layer)"
   ]
  },
  {
   "cell_type": "code",
   "execution_count": 7,
   "metadata": {},
   "outputs": [
    {
     "output_type": "display_data",
     "data": {
      "text/plain": "Figure(layout=FigureLayout(height='420px'))",
      "application/vnd.jupyter.widget-view+json": {
       "version_major": 2,
       "version_minor": 0,
       "model_id": "8327b3c674eb4f87af577ab0c9a1c1c0"
      }
     },
     "metadata": {}
    }
   ],
   "source": [
    "# Display figure\n",
    "fig"
   ]
  },
  {
   "cell_type": "code",
   "execution_count": null,
   "metadata": {},
   "outputs": [],
   "source": []
  },
  {
   "cell_type": "markdown",
   "metadata": {},
   "source": [
    "### Create new DataFrame fitting weather criteria\n",
    "* Narrow down the cities to fit weather conditions.\n",
    "* Drop any rows will null values."
   ]
  },
  {
   "cell_type": "code",
   "execution_count": null,
   "metadata": {},
   "outputs": [],
   "source": [
    "# ideal weather conditions"
   ]
  },
  {
   "cell_type": "code",
   "execution_count": 27,
   "metadata": {},
   "outputs": [
    {
     "output_type": "execute_result",
     "data": {
      "text/plain": [
       "   Unnamed: 0        City      Lat       Lng    Temp     Max  Hum  Cld   Wind  \\\n",
       "0           0      dikson  73.5069   80.5464   32.00   32.00   84    0   5.03   \n",
       "1           1     barstow  34.8986 -117.0228  104.47  106.79    8    0  26.53   \n",
       "2           2  samoylovka  51.1840   43.7081   65.62   65.62   67   51   8.61   \n",
       "3           3       airai  -8.9266  125.4092   55.53   55.53   92   34   3.27   \n",
       "4           4    celestun  20.8667  -90.4000   91.08   91.08   59   92   6.44   \n",
       "\n",
       "  Country        Time     TZ  \n",
       "0      RU  1624218521  25200  \n",
       "1      US  1624218522 -25200  \n",
       "2      RU  1624218523  14400  \n",
       "3      TL  1624218525  32400  \n",
       "4      MX  1624218527 -18000  "
      ],
      "text/html": "<div>\n<style scoped>\n    .dataframe tbody tr th:only-of-type {\n        vertical-align: middle;\n    }\n\n    .dataframe tbody tr th {\n        vertical-align: top;\n    }\n\n    .dataframe thead th {\n        text-align: right;\n    }\n</style>\n<table border=\"1\" class=\"dataframe\">\n  <thead>\n    <tr style=\"text-align: right;\">\n      <th></th>\n      <th>Unnamed: 0</th>\n      <th>City</th>\n      <th>Lat</th>\n      <th>Lng</th>\n      <th>Temp</th>\n      <th>Max</th>\n      <th>Hum</th>\n      <th>Cld</th>\n      <th>Wind</th>\n      <th>Country</th>\n      <th>Time</th>\n      <th>TZ</th>\n    </tr>\n  </thead>\n  <tbody>\n    <tr>\n      <th>0</th>\n      <td>0</td>\n      <td>dikson</td>\n      <td>73.5069</td>\n      <td>80.5464</td>\n      <td>32.00</td>\n      <td>32.00</td>\n      <td>84</td>\n      <td>0</td>\n      <td>5.03</td>\n      <td>RU</td>\n      <td>1624218521</td>\n      <td>25200</td>\n    </tr>\n    <tr>\n      <th>1</th>\n      <td>1</td>\n      <td>barstow</td>\n      <td>34.8986</td>\n      <td>-117.0228</td>\n      <td>104.47</td>\n      <td>106.79</td>\n      <td>8</td>\n      <td>0</td>\n      <td>26.53</td>\n      <td>US</td>\n      <td>1624218522</td>\n      <td>-25200</td>\n    </tr>\n    <tr>\n      <th>2</th>\n      <td>2</td>\n      <td>samoylovka</td>\n      <td>51.1840</td>\n      <td>43.7081</td>\n      <td>65.62</td>\n      <td>65.62</td>\n      <td>67</td>\n      <td>51</td>\n      <td>8.61</td>\n      <td>RU</td>\n      <td>1624218523</td>\n      <td>14400</td>\n    </tr>\n    <tr>\n      <th>3</th>\n      <td>3</td>\n      <td>airai</td>\n      <td>-8.9266</td>\n      <td>125.4092</td>\n      <td>55.53</td>\n      <td>55.53</td>\n      <td>92</td>\n      <td>34</td>\n      <td>3.27</td>\n      <td>TL</td>\n      <td>1624218525</td>\n      <td>32400</td>\n    </tr>\n    <tr>\n      <th>4</th>\n      <td>4</td>\n      <td>celestun</td>\n      <td>20.8667</td>\n      <td>-90.4000</td>\n      <td>91.08</td>\n      <td>91.08</td>\n      <td>59</td>\n      <td>92</td>\n      <td>6.44</td>\n      <td>MX</td>\n      <td>1624218527</td>\n      <td>-18000</td>\n    </tr>\n  </tbody>\n</table>\n</div>"
     },
     "metadata": {},
     "execution_count": 27
    }
   ],
   "source": [
    "# renaming columns to be shorter\n",
    "weather_df = weather_df.rename(columns={'Latitude':'Lat','Longitude':'Lng', 'Temperature (F)': 'Temp', 'Maximum Temperature (F)': 'Max', 'Humidity (%)': 'Hum', 'Cloudiness (%)': 'Cld', 'Wind Speed (mph)': 'Wind', 'Country': 'Country', 'Time Zone': 'TZ'})\n",
    "weather_df.head() # cities = 543"
   ]
  },
  {
   "cell_type": "code",
   "execution_count": 12,
   "metadata": {},
   "outputs": [],
   "source": [
    "# temperature max temp 65 to 85\n",
    "not_too_cool_df = weather_df.loc[weather_df['Max'] > 65, :] # cities = 343\n",
    "not_too_hot_df = not_too_cool_df.loc[weather_df['Max'] < 85, :] # cities = 268"
   ]
  },
  {
   "cell_type": "code",
   "execution_count": 13,
   "metadata": {},
   "outputs": [],
   "source": [
    "# humidity 30 to 70%\n",
    "not_too_humid_df = not_too_hot_df.loc[weather_df['Hum'] < 70, :] # cities = 95\n",
    "not_too_dry_df = not_too_humid_df.loc[weather_df['Hum'] > 30, :] # cities = 82"
   ]
  },
  {
   "cell_type": "code",
   "execution_count": 14,
   "metadata": {},
   "outputs": [],
   "source": [
    "# wind speed less than 10\n",
    "not_windy_df = not_too_dry_df.loc[weather_df['Wind'] <10, :] # cities = 53\n",
    "lil_breeze_df = not_windy_df.loc[weather_df['Wind'] >2.5, :] # cities = 47"
   ]
  },
  {
   "cell_type": "code",
   "execution_count": 15,
   "metadata": {},
   "outputs": [],
   "source": [
    "# cloudiness less than 20%\n",
    "ok_clouds_df = lil_breeze_df.loc[weather_df['Cld'] <20, :] # cities = 15"
   ]
  },
  {
   "cell_type": "code",
   "execution_count": 16,
   "metadata": {},
   "outputs": [],
   "source": [
    "just_right_df = ok_clouds_df.dropna() # cities = 13"
   ]
  },
  {
   "cell_type": "markdown",
   "metadata": {},
   "source": [
    "### Hotel Map\n",
    "* Store into variable named `hotel_df`.\n",
    "* Add a \"Hotel Name\" column to the DataFrame.\n",
    "* Set parameters to search for hotels with 5000 meters.\n",
    "* Hit the Google Places API for each city's coordinates.\n",
    "* Store the first Hotel result into the DataFrame.\n",
    "* Plot markers on top of the heatmap."
   ]
  },
  {
   "cell_type": "code",
   "execution_count": 17,
   "metadata": {},
   "outputs": [],
   "source": [
    "pd.options.mode.chained_assignment = None # was sometimes getting an error with this, so found this solution online\n",
    "hotel_df = just_right_df\n",
    "hotel_df['Hotel Name'] = ''"
   ]
  },
  {
   "cell_type": "code",
   "execution_count": 18,
   "metadata": {},
   "outputs": [
    {
     "output_type": "execute_result",
     "data": {
      "text/plain": [
       "     Unnamed: 0             City      Lat       Lng   Temp    Max  Hum  Cld  \\\n",
       "69           69  arraial do cabo -22.9661  -42.0278  80.46  84.16   61    0   \n",
       "84           84     kruisfontein -34.0033   24.7314  69.89  69.89   31    8   \n",
       "171         171       nikolskoye  59.7035   30.7861  74.34  76.89   68    0   \n",
       "189         189  plettenberg bay -34.0527   23.3716  74.19  74.19   36    8   \n",
       "190         190      east london -33.0153   27.9116  70.54  70.54   35    5   \n",
       "208         208    makakilo city  21.3469 -158.0858  78.55  80.62   61    1   \n",
       "234         234         colorado -22.8375  -51.9731  66.29  66.29   61    7   \n",
       "256         256         westlock  54.1502 -113.8688  62.64  67.41   55    5   \n",
       "266         266        saskylakh  71.9167  114.0833  75.43  75.43   40   13   \n",
       "337         337          zhangye  38.9342  100.4517  67.82  67.82   35    3   \n",
       "438         438          marfino  55.7028   37.3822  71.13  77.14   64    0   \n",
       "499         499       shitanjing  39.2342  106.3439  67.75  67.75   40    0   \n",
       "519         519         orahovac  42.3994   20.6547  71.46  71.46   67   19   \n",
       "\n",
       "     Wind Country        Time     TZ Hotel Name  \n",
       "69   5.75      BR  1624218467 -10800             \n",
       "84   8.55      ZA  1624218632   7200             \n",
       "171  3.44      RU  1624218454  10800             \n",
       "189  7.16      ZA  1624218750   7200             \n",
       "190  7.20      ZA  1624218462   7200             \n",
       "208  6.91      US  1624218768 -36000             \n",
       "234  6.89      BR  1624218791 -10800             \n",
       "256  5.75      CA  1624218809 -21600             \n",
       "266  5.57      RU  1624218819  32400             \n",
       "337  7.00      CN  1624218893  28800             \n",
       "438  4.47      RU  1624218955  10800             \n",
       "499  9.64      CN  1624218990  28800             \n",
       "519  2.86      XK  1624219005   7200             "
      ],
      "text/html": "<div>\n<style scoped>\n    .dataframe tbody tr th:only-of-type {\n        vertical-align: middle;\n    }\n\n    .dataframe tbody tr th {\n        vertical-align: top;\n    }\n\n    .dataframe thead th {\n        text-align: right;\n    }\n</style>\n<table border=\"1\" class=\"dataframe\">\n  <thead>\n    <tr style=\"text-align: right;\">\n      <th></th>\n      <th>Unnamed: 0</th>\n      <th>City</th>\n      <th>Lat</th>\n      <th>Lng</th>\n      <th>Temp</th>\n      <th>Max</th>\n      <th>Hum</th>\n      <th>Cld</th>\n      <th>Wind</th>\n      <th>Country</th>\n      <th>Time</th>\n      <th>TZ</th>\n      <th>Hotel Name</th>\n    </tr>\n  </thead>\n  <tbody>\n    <tr>\n      <th>69</th>\n      <td>69</td>\n      <td>arraial do cabo</td>\n      <td>-22.9661</td>\n      <td>-42.0278</td>\n      <td>80.46</td>\n      <td>84.16</td>\n      <td>61</td>\n      <td>0</td>\n      <td>5.75</td>\n      <td>BR</td>\n      <td>1624218467</td>\n      <td>-10800</td>\n      <td></td>\n    </tr>\n    <tr>\n      <th>84</th>\n      <td>84</td>\n      <td>kruisfontein</td>\n      <td>-34.0033</td>\n      <td>24.7314</td>\n      <td>69.89</td>\n      <td>69.89</td>\n      <td>31</td>\n      <td>8</td>\n      <td>8.55</td>\n      <td>ZA</td>\n      <td>1624218632</td>\n      <td>7200</td>\n      <td></td>\n    </tr>\n    <tr>\n      <th>171</th>\n      <td>171</td>\n      <td>nikolskoye</td>\n      <td>59.7035</td>\n      <td>30.7861</td>\n      <td>74.34</td>\n      <td>76.89</td>\n      <td>68</td>\n      <td>0</td>\n      <td>3.44</td>\n      <td>RU</td>\n      <td>1624218454</td>\n      <td>10800</td>\n      <td></td>\n    </tr>\n    <tr>\n      <th>189</th>\n      <td>189</td>\n      <td>plettenberg bay</td>\n      <td>-34.0527</td>\n      <td>23.3716</td>\n      <td>74.19</td>\n      <td>74.19</td>\n      <td>36</td>\n      <td>8</td>\n      <td>7.16</td>\n      <td>ZA</td>\n      <td>1624218750</td>\n      <td>7200</td>\n      <td></td>\n    </tr>\n    <tr>\n      <th>190</th>\n      <td>190</td>\n      <td>east london</td>\n      <td>-33.0153</td>\n      <td>27.9116</td>\n      <td>70.54</td>\n      <td>70.54</td>\n      <td>35</td>\n      <td>5</td>\n      <td>7.20</td>\n      <td>ZA</td>\n      <td>1624218462</td>\n      <td>7200</td>\n      <td></td>\n    </tr>\n    <tr>\n      <th>208</th>\n      <td>208</td>\n      <td>makakilo city</td>\n      <td>21.3469</td>\n      <td>-158.0858</td>\n      <td>78.55</td>\n      <td>80.62</td>\n      <td>61</td>\n      <td>1</td>\n      <td>6.91</td>\n      <td>US</td>\n      <td>1624218768</td>\n      <td>-36000</td>\n      <td></td>\n    </tr>\n    <tr>\n      <th>234</th>\n      <td>234</td>\n      <td>colorado</td>\n      <td>-22.8375</td>\n      <td>-51.9731</td>\n      <td>66.29</td>\n      <td>66.29</td>\n      <td>61</td>\n      <td>7</td>\n      <td>6.89</td>\n      <td>BR</td>\n      <td>1624218791</td>\n      <td>-10800</td>\n      <td></td>\n    </tr>\n    <tr>\n      <th>256</th>\n      <td>256</td>\n      <td>westlock</td>\n      <td>54.1502</td>\n      <td>-113.8688</td>\n      <td>62.64</td>\n      <td>67.41</td>\n      <td>55</td>\n      <td>5</td>\n      <td>5.75</td>\n      <td>CA</td>\n      <td>1624218809</td>\n      <td>-21600</td>\n      <td></td>\n    </tr>\n    <tr>\n      <th>266</th>\n      <td>266</td>\n      <td>saskylakh</td>\n      <td>71.9167</td>\n      <td>114.0833</td>\n      <td>75.43</td>\n      <td>75.43</td>\n      <td>40</td>\n      <td>13</td>\n      <td>5.57</td>\n      <td>RU</td>\n      <td>1624218819</td>\n      <td>32400</td>\n      <td></td>\n    </tr>\n    <tr>\n      <th>337</th>\n      <td>337</td>\n      <td>zhangye</td>\n      <td>38.9342</td>\n      <td>100.4517</td>\n      <td>67.82</td>\n      <td>67.82</td>\n      <td>35</td>\n      <td>3</td>\n      <td>7.00</td>\n      <td>CN</td>\n      <td>1624218893</td>\n      <td>28800</td>\n      <td></td>\n    </tr>\n    <tr>\n      <th>438</th>\n      <td>438</td>\n      <td>marfino</td>\n      <td>55.7028</td>\n      <td>37.3822</td>\n      <td>71.13</td>\n      <td>77.14</td>\n      <td>64</td>\n      <td>0</td>\n      <td>4.47</td>\n      <td>RU</td>\n      <td>1624218955</td>\n      <td>10800</td>\n      <td></td>\n    </tr>\n    <tr>\n      <th>499</th>\n      <td>499</td>\n      <td>shitanjing</td>\n      <td>39.2342</td>\n      <td>106.3439</td>\n      <td>67.75</td>\n      <td>67.75</td>\n      <td>40</td>\n      <td>0</td>\n      <td>9.64</td>\n      <td>CN</td>\n      <td>1624218990</td>\n      <td>28800</td>\n      <td></td>\n    </tr>\n    <tr>\n      <th>519</th>\n      <td>519</td>\n      <td>orahovac</td>\n      <td>42.3994</td>\n      <td>20.6547</td>\n      <td>71.46</td>\n      <td>71.46</td>\n      <td>67</td>\n      <td>19</td>\n      <td>2.86</td>\n      <td>XK</td>\n      <td>1624219005</td>\n      <td>7200</td>\n      <td></td>\n    </tr>\n  </tbody>\n</table>\n</div>"
     },
     "metadata": {},
     "execution_count": 18
    }
   ],
   "source": [
    "hotel_df"
   ]
  },
  {
   "cell_type": "code",
   "execution_count": 20,
   "metadata": {
    "tags": []
   },
   "outputs": [
    {
     "output_type": "stream",
     "name": "stdout",
     "text": [
      "Retrieving Results for Index 69: arraial do cabo.\n",
      "Closest lodging in arraial do cabo, BR is Pousada Porto Praia.\n",
      "Hotel is located at Rua Vilas Bôas, 161 - Macedônia, Arraial do Cabo.\n",
      "Hotel rating is 4.3.\n",
      "------------\n",
      "Retrieving Results for Index 84: kruisfontein.\n",
      "Closest lodging in kruisfontein, ZA is Oyster Bay House Rental.\n",
      "Hotel is located at 351 Kabeljou street, Oysterbay, Humansdorp.\n",
      "Hotel rating is 3.7.\n",
      "------------\n",
      "Retrieving Results for Index 171: nikolskoye.\n",
      "Closest lodging in nikolskoye, RU is Tourist House - Sablino.\n",
      "Hotel is located at Parkovaya Ulitsa, 26/1, Ul'yanovka.\n",
      "Hotel rating is 4.2.\n",
      "------------\n",
      "Retrieving Results for Index 189: plettenberg bay.\n",
      "Closest lodging in plettenberg bay, ZA is Thanda Vista B&B.\n",
      "Hotel is located at 8 Susan Street, Plettenberg Bay.\n",
      "Hotel rating is 4.7.\n",
      "------------\n",
      "Retrieving Results for Index 190: east london.\n",
      "Closest lodging in east london, ZA is Tu Casa.\n",
      "Hotel is located at 2 Ascot Road, Nahoon, East London.\n",
      "Hotel rating is 4.6.\n",
      "------------\n",
      "Retrieving Results for Index 208: makakilo city.\n",
      "Closest lodging in makakilo city, US is Marriott's Ko Olina Beach Club.\n",
      "Hotel is located at 92-161 Waipahe Place Marriott Vacation Club Kapolei - Oahu.\n",
      "Hotel rating is 4.6.\n",
      "------------\n",
      "Retrieving Results for Index 234: colorado.\n",
      "Closest lodging in colorado, BR is Hotel Bandeirantes.\n",
      "Hotel is located at Rua São Paulo, 380 - Centro, Colorado.\n",
      "Hotel rating is 3.8.\n",
      "------------\n",
      "Retrieving Results for Index 256: westlock.\n",
      "Closest lodging in westlock, CA is Ramada by Wyndham Westlock.\n",
      "Hotel is located at 11311 100 Street, Westlock.\n",
      "Hotel rating is 4.4.\n",
      "------------\n",
      "Retrieving Results for Index 266: saskylakh.\n",
      "Missing field/result... skipping.\n",
      "------------\n",
      "Retrieving Results for Index 337: zhangye.\n",
      "Closest lodging in zhangye, CN is Zhangye Lvzhou Holiday Inn.\n",
      "Hotel is located at 甘州区民乐南路31号宁和园西侧, Zhangye Shi.\n",
      "Hotel rating is 4.\n",
      "------------\n",
      "Retrieving Results for Index 438: marfino.\n",
      "Closest lodging in marfino, RU is Nemchinovka-Park.\n",
      "Hotel is located at 2-Ya Zaprudnaya Ulitsa, 36, Nemchinovka.\n",
      "Hotel rating is 4.5.\n",
      "------------\n",
      "Retrieving Results for Index 499: shitanjing.\n",
      "Missing field/result... skipping.\n",
      "------------\n",
      "Retrieving Results for Index 519: orahovac.\n",
      "Closest lodging in orahovac, XK is Esra Palace.\n",
      "Hotel is located at Rr. UÇK-së, Rahovec.\n",
      "Hotel rating is 4.6.\n",
      "------------\n"
     ]
    }
   ],
   "source": [
    "# find the closest hotel for each set of coordinates\n",
    "base_url = \"https://maps.googleapis.com/maps/api/place/nearbysearch/json\"\n",
    "params = {\n",
    "    \"radius\": 5000,\n",
    "    # \"rankby\": \"distance\",  # this prevented results from coming back, so pulled it out\n",
    "    \"types\": \"lodging\",\n",
    "    \"key\": gkey\n",
    "}\n",
    "# use iterrows to iterate through pandas dataframe\n",
    "for index, row in hotel_df.iterrows():\n",
    "\n",
    "    # get lat & lng from df\n",
    "    lat = row['Lat']\n",
    "    lng = row['Lng']\n",
    "    lat_lng = f\"{lat}, {lng}\"\n",
    "    city = row['City']\n",
    "    country = row['Country']\n",
    "\n",
    "    # add keyword to params dict\n",
    "    params['location'] = f\"{lat}, {lng}\"\n",
    " \n",
    "    # assemble url and make API request\n",
    "    print(f\"Retrieving Results for Index {index}: {city}.\")\n",
    "    response = requests.get(base_url, params=params).json()\n",
    "\n",
    "    # extract results\n",
    "    results = response['results']\n",
    "  \n",
    "    try:\n",
    "        print(f\"Closest lodging in {city}, {country} is {results[0]['name']}.\")\n",
    "        print(f\"Hotel is located at {results[0]['vicinity']}.\")\n",
    "        print(f\"Hotel rating is {results[0]['rating']}.\")\n",
    "        hotel_df.loc[index, 'Hotel Name'] = results[0]['name']\n",
    "        hotel_df.loc[index, 'Address'] = results[0]['vicinity']\n",
    "        # hotel_df.loc[index, 'price_level'] = results[0]['price_level']\n",
    "        hotel_df.loc[index, 'rating'] = results[0]['rating']\n",
    "        \n",
    "    except (KeyError, IndexError):\n",
    "        print(\"Missing field/result... skipping.\")   \n",
    "    print(\"------------\")"
   ]
  },
  {
   "cell_type": "code",
   "execution_count": 23,
   "metadata": {},
   "outputs": [],
   "source": [
    "# NOTE: Do not change any of the code in this cell\n",
    "\n",
    "# Using the template add the hotel marks to the heatmap\n",
    "info_box_template = \"\"\"\n",
    "<dl>\n",
    "<dt>Name</dt><dd>{Hotel Name}</dd>\n",
    "<dt>City</dt><dd>{City}</dd>\n",
    "<dt>Country</dt><dd>{Country}</dd>\n",
    "</dl>\n",
    "\"\"\"\n",
    "# Store the DataFrame Row\n",
    "# NOTE: be sure to update with your DataFrame name\n",
    "hotel_info = [info_box_template.format(**row) for index, row in hotel_df.iterrows()]\n",
    "locations = hotel_df[[\"Lat\", \"Lng\"]]"
   ]
  },
  {
   "cell_type": "code",
   "execution_count": 24,
   "metadata": {},
   "outputs": [
    {
     "output_type": "display_data",
     "data": {
      "text/plain": "Figure(layout=FigureLayout(height='420px'))",
      "application/vnd.jupyter.widget-view+json": {
       "version_major": 2,
       "version_minor": 0,
       "model_id": "886d360de144450e86e116c9868a56c5"
      }
     },
     "metadata": {}
    }
   ],
   "source": [
    "# Create symbol layer\n",
    "marker_layer = gmaps.marker_layer(locations, info_box_content=hotel_info)\n",
    "\n",
    "fig.add_layer(marker_layer)\n",
    "\n",
    "fig"
   ]
  },
  {
   "cell_type": "code",
   "execution_count": 26,
   "metadata": {},
   "outputs": [
    {
     "output_type": "display_data",
     "data": {
      "text/plain": "Figure(layout=FigureLayout(height='420px'))",
      "application/vnd.jupyter.widget-view+json": {
       "version_major": 2,
       "version_minor": 0,
       "model_id": "537d8a2416034271814accfcc4ae2ed1"
      }
     },
     "metadata": {}
    }
   ],
   "source": [
    "# Create a combined map\n",
    "fig = gmaps.figure()\n",
    "\n",
    "fig.add_layer(heat_layer)\n",
    "fig.add_layer(marker_layer)\n",
    "\n",
    "fig"
   ]
  },
  {
   "cell_type": "code",
   "execution_count": null,
   "metadata": {},
   "outputs": [],
   "source": []
  }
 ],
 "metadata": {
  "kernelspec": {
   "name": "python3",
   "display_name": "Python 3.8.5 64-bit ('base': conda)"
  },
  "language_info": {
   "codemirror_mode": {
    "name": "ipython",
    "version": 3
   },
   "file_extension": ".py",
   "mimetype": "text/x-python",
   "name": "python",
   "nbconvert_exporter": "python",
   "pygments_lexer": "ipython3",
   "version": "3.8.5"
  },
  "latex_envs": {
   "LaTeX_envs_menu_present": true,
   "autoclose": false,
   "autocomplete": true,
   "bibliofile": "biblio.bib",
   "cite_by": "apalike",
   "current_citInitial": 1,
   "eqLabelWithNumbers": true,
   "eqNumInitial": 1,
   "hotkeys": {
    "equation": "Ctrl-E",
    "itemize": "Ctrl-I"
   },
   "labels_anchors": false,
   "latex_user_defs": false,
   "report_style_numbering": false,
   "user_envs_cfg": false
  },
  "interpreter": {
   "hash": "797aaa517c2851f29685343c41d423cf5c6e3497bc2091e34cd352c6f05b7b6f"
  }
 },
 "nbformat": 4,
 "nbformat_minor": 4
}