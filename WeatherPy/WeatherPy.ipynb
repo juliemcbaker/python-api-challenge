{
 "metadata": {
  "language_info": {
   "codemirror_mode": {
    "name": "ipython",
    "version": 3
   },
   "file_extension": ".py",
   "mimetype": "text/x-python",
   "name": "python",
   "nbconvert_exporter": "python",
   "pygments_lexer": "ipython3",
   "version": "3.8.5"
  },
  "orig_nbformat": 4,
  "kernelspec": {
   "name": "python3",
   "display_name": "Python 3.8.5 64-bit ('base': conda)"
  },
  "interpreter": {
   "hash": "797aaa517c2851f29685343c41d423cf5c6e3497bc2091e34cd352c6f05b7b6f"
  }
 },
 "nbformat": 4,
 "nbformat_minor": 2,
 "cells": [
  {
   "cell_type": "code",
   "execution_count": 1,
   "metadata": {},
   "outputs": [],
   "source": [
    "# WeatherPy\n",
    "# Julie Baker\n",
    "# June 2021"
   ]
  },
  {
   "cell_type": "code",
   "execution_count": null,
   "metadata": {},
   "outputs": [],
   "source": [
    "# Dependencies"
   ]
  },
  {
   "cell_type": "code",
   "execution_count": null,
   "metadata": {},
   "outputs": [],
   "source": [
    "# citipy data"
   ]
  },
  {
   "cell_type": "code",
   "execution_count": null,
   "metadata": {},
   "outputs": [],
   "source": [
    "# open weather api"
   ]
  },
  {
   "cell_type": "code",
   "execution_count": null,
   "metadata": {},
   "outputs": [],
   "source": [
    "# select >= 500 unique (non-repeat)"
   ]
  },
  {
   "cell_type": "code",
   "execution_count": null,
   "metadata": {},
   "outputs": [],
   "source": []
  },
  {
   "cell_type": "code",
   "execution_count": null,
   "metadata": {},
   "outputs": [],
   "source": []
  },
  {
   "source": [
    "## SCATTERPLOTS"
   ],
   "cell_type": "markdown",
   "metadata": {}
  },
  {
   "source": [
    "### Temperature (F) vs. Latitude\n",
    "* Plot\n",
    "* 1-2 sentence explanation"
   ],
   "cell_type": "markdown",
   "metadata": {}
  },
  {
   "source": [
    "### Humidity (%) vs. Latitude\n",
    "* Plot\n",
    "* 1-2 sentence explanation"
   ],
   "cell_type": "markdown",
   "metadata": {}
  },
  {
   "source": [
    "### Cloudiness (%) vs. Latitude\n",
    "* Plot\n",
    "* 1-2 sentence explanation"
   ],
   "cell_type": "markdown",
   "metadata": {}
  },
  {
   "source": [
    "### Wind Speed (mph) vs. Latitude\n",
    "* Plot\n",
    "* 1-2 sentence explanation"
   ],
   "cell_type": "markdown",
   "metadata": {}
  },
  {
   "source": [
    "## REGRESSIONS\n",
    "### Explain patterns after each plot"
   ],
   "cell_type": "markdown",
   "metadata": {}
  },
  {
   "source": [
    "### Temperature (F) vs. Latitude: Northern Hemisphere"
   ],
   "cell_type": "markdown",
   "metadata": {}
  },
  {
   "source": [
    "### Temperature (F) vs. Latitude: Southern Hemisphere"
   ],
   "cell_type": "markdown",
   "metadata": {}
  },
  {
   "source": [
    "### Humidity (%) vs. Latitude: Northern Hemisphere"
   ],
   "cell_type": "markdown",
   "metadata": {}
  },
  {
   "source": [
    "### Humidity (%) vs. Latitude: Southern Hemisphere"
   ],
   "cell_type": "markdown",
   "metadata": {}
  },
  {
   "source": [
    "### Cloudiness (%) vs. Latitude: Northern Hemisphere"
   ],
   "cell_type": "markdown",
   "metadata": {}
  },
  {
   "source": [
    "### Cloudiness (%) vs. Latitude: Southern Hemisphere"
   ],
   "cell_type": "markdown",
   "metadata": {}
  },
  {
   "source": [
    "### Wind Speed (mph) vs. Latitude: Northern Hemisphere"
   ],
   "cell_type": "markdown",
   "metadata": {}
  },
  {
   "source": [
    "### Wind Speed (mph) vs. Latitude: Southern Hemisphere"
   ],
   "cell_type": "markdown",
   "metadata": {}
  },
  {
   "cell_type": "code",
   "execution_count": null,
   "metadata": {},
   "outputs": [],
   "source": []
  },
  {
   "cell_type": "code",
   "execution_count": null,
   "metadata": {},
   "outputs": [],
   "source": []
  },
  {
   "cell_type": "code",
   "execution_count": null,
   "metadata": {},
   "outputs": [],
   "source": []
  },
  {
   "cell_type": "code",
   "execution_count": null,
   "metadata": {},
   "outputs": [],
   "source": []
  }
 ]
}